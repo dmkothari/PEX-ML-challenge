{
 "cells": [
  {
   "cell_type": "markdown",
   "metadata": {},
   "source": [
    "## Dhairya Kothari\n",
    "## PEX Machine Learning challenge"
   ]
  },
  {
   "cell_type": "markdown",
   "metadata": {},
   "source": [
    "### Part 2 - Classification of the Images"
   ]
  },
  {
   "cell_type": "markdown",
   "metadata": {},
   "source": [
    "I decided to use Keras package to trian a CNN on the Images. I use keras for its ease to work with. I can feed the images directly from the respective folder. My approach is to store images in its folder for training data which will have 2 sub-directories namely 'Indoor' and 'Outdoor' and the images stored respectively while the directories work as a label for the same. "
   ]
  },
  {
   "cell_type": "code",
   "execution_count": 153,
   "metadata": {},
   "outputs": [],
   "source": [
    "import warnings \n",
    "warnings.filterwarnings('ignore')\n",
    "\n",
    "from keras import backend\n",
    "from keras import optimizers\n",
    "from keras.models import Sequential\n",
    "from keras.layers import Conv2D, MaxPooling2D\n",
    "from keras.layers import Activation, Dropout, Flatten, Dense\n",
    "from keras.preprocessing.image import ImageDataGenerator\n",
    "\n",
    "from pprint import pprint\n",
    "from skimage.measure import block_reduce\n",
    "from matplotlib import pyplot as plt\n",
    "%matplotlib inline\n",
    "\n",
    "import glob\n",
    "import os\n",
    "import numpy as np\n",
    "from keras.preprocessing import image"
   ]
  },
  {
   "cell_type": "markdown",
   "metadata": {},
   "source": [
    "#### Defining the image dimensions and directories, also defining other parameters"
   ]
  },
  {
   "cell_type": "markdown",
   "metadata": {},
   "source": [
    "Chose the image size of 160x90 pixels to maintain the aspect ratio and also reduce the complexity of the training images by a big factor "
   ]
  },
  {
   "cell_type": "code",
   "execution_count": 154,
   "metadata": {},
   "outputs": [],
   "source": [
    "# dimensions of our images.\n",
    "img_w, img_h = 90, 160\n",
    "\n",
    "tr_dir = 'data/train_data'\n",
    "val_dir = 'data/val_data'\n",
    "\n",
    "tr_sample_N = len(glob.glob('./data/train_data/*/*.jpg'))\n",
    "val_sample_N = len(glob.glob('./data/val_data/*/*.jpg'))\n",
    "\n",
    "epochs = 24\n",
    "batch_size = 32"
   ]
  },
  {
   "cell_type": "code",
   "execution_count": 155,
   "metadata": {},
   "outputs": [],
   "source": [
    "if backend.image_data_format() == 'channels_first':\n",
    "    input_shape = (3, img_w, img_h)\n",
    "else:\n",
    "    input_shape = (img_w, img_h, 3)"
   ]
  },
  {
   "cell_type": "markdown",
   "metadata": {},
   "source": [
    "Defining all the model parameters, layers, optimization and loss function"
   ]
  },
  {
   "cell_type": "markdown",
   "metadata": {},
   "source": [
    "#### Explaining the choice of model parameters:"
   ]
  },
  {
   "cell_type": "markdown",
   "metadata": {},
   "source": [
    "<p>\n",
    "We initialise our neural network model as a sequential network. Then we use 2 convoluted layers with different filters increasing in number after each layer followed by Maxpooling. In pooling, We take a matrix where we’ll have a balance between minimal pixel loss, getting a precise region where the feature are located and complexity of the network. Everything is self explainatory.\n",
    "<p>\n",
    "All the parameters are chosen (after multiple trial and errors) such that it is a sweet spot between complexity, model performance and training time. At one instance a fully featured (some what extra) model had an ETA of 76 hrs.\n",
    "\n",
    "<u>We use 2 activation functions</u>- <br>\n",
    "\n",
    "<b>ReLu:</b><br>\n",
    "The usefulness of ReLu not only it is a very simple activation, it also prevents gradients from saturating. ReLu may amplify the signal inside the network more than other activation which in our case might help with the prediction. But, ReLu also tends to overfit according to some literature, to overcome that we use drop out.<br>\n",
    "Hence we use relu for all the layers except the last.\n",
    "<br>\n",
    "\n",
    "<b>Sigmoid:</b> <br>\n",
    "As Sigmoid activation function in the output layer polishes the classification (for binary classification) \n",
    "<br>\n",
    "\n",
    "<b>Optimizer:</b><br>\n",
    "Adamax optimizer is a variant of Adam. Lr is the Learning rate. While, beta_1 is the exponential decay rate for the 1st moment estimates and beta_2 for the 2nd moment estimates.\n",
    "\n"
   ]
  },
  {
   "cell_type": "code",
   "execution_count": 156,
   "metadata": {},
   "outputs": [
    {
     "name": "stdout",
     "output_type": "stream",
     "text": [
      "_________________________________________________________________\n",
      "Layer (type)                 Output Shape              Param #   \n",
      "=================================================================\n",
      "conv2d_31 (Conv2D)           (None, 88, 158, 8)        224       \n",
      "_________________________________________________________________\n",
      "conv2d_32 (Conv2D)           (None, 86, 156, 16)       1168      \n",
      "_________________________________________________________________\n",
      "max_pooling2d_11 (MaxPooling (None, 43, 78, 16)        0         \n",
      "_________________________________________________________________\n",
      "conv2d_33 (Conv2D)           (None, 41, 76, 32)        4640      \n",
      "_________________________________________________________________\n",
      "flatten_11 (Flatten)         (None, 99712)             0         \n",
      "_________________________________________________________________\n",
      "dense_29 (Dense)             (None, 16)                1595408   \n",
      "_________________________________________________________________\n",
      "dropout_15 (Dropout)         (None, 16)                0         \n",
      "_________________________________________________________________\n",
      "dense_30 (Dense)             (None, 8)                 136       \n",
      "_________________________________________________________________\n",
      "dense_31 (Dense)             (None, 1)                 9         \n",
      "=================================================================\n",
      "Total params: 1,601,585\n",
      "Trainable params: 1,601,585\n",
      "Non-trainable params: 0\n",
      "_________________________________________________________________\n"
     ]
    }
   ],
   "source": [
    "model = Sequential()\n",
    "model.add(Conv2D(filters=8, kernel_size=3, activation='relu', input_shape=input_shape))\n",
    "model.add(Conv2D(filters=16, kernel_size=3, activation='relu'))\n",
    "model.add(MaxPooling2D(pool_size=(2,2)))\n",
    "model.add(Conv2D(filters=32, kernel_size=3, activation='relu'))\n",
    "\n",
    "model.add(Flatten())\n",
    "model.add(Dense(16, activation='relu'))\n",
    "model.add(Dropout(0.5))\n",
    "model.add(Dense(8, activation='relu'))\n",
    "model.add(Dense(1, activation='sigmoid'))\n",
    "\n",
    "Adamax = optimizers.Adamax(lr=0.00001, beta_1 = 0.9, beta_2 = 0.99)\n",
    "model.compile(optimizer='Adamax', loss='binary_crossentropy', metrics=['accuracy'])\n",
    "model.summary()"
   ]
  },
  {
   "cell_type": "markdown",
   "metadata": {},
   "source": [
    "Preparing the data train and validation data"
   ]
  },
  {
   "cell_type": "code",
   "execution_count": 157,
   "metadata": {},
   "outputs": [
    {
     "name": "stdout",
     "output_type": "stream",
     "text": [
      "Found 1255 images belonging to 2 classes.\n",
      "Found 309 images belonging to 2 classes.\n"
     ]
    }
   ],
   "source": [
    "train_datagen = ImageDataGenerator(rescale=1. / 255,\n",
    "                                   shear_range=0.2,\n",
    "                                   zoom_range=0.2,\n",
    "                                   horizontal_flip=True)\n",
    "train_generator = train_datagen.flow_from_directory(tr_dir,\n",
    "                                                    target_size=(img_w, img_h),\n",
    "                                                    batch_size=batch_size,\n",
    "                                                    class_mode='binary')\n",
    "\n",
    "test_datagen = ImageDataGenerator(rescale=1. / 255)\n",
    "validation_generator = test_datagen.flow_from_directory(val_dir,\n",
    "                                                        target_size=(img_w, img_h),\n",
    "                                                        batch_size=batch_size,\n",
    "                                                        class_mode='binary')"
   ]
  },
  {
   "cell_type": "markdown",
   "metadata": {},
   "source": [
    "#### Fitting the model and also saving the weights for the future use so we can start from where we left off"
   ]
  },
  {
   "cell_type": "code",
   "execution_count": 158,
   "metadata": {},
   "outputs": [
    {
     "name": "stdout",
     "output_type": "stream",
     "text": [
      "Epoch 1/24\n",
      "39/39 [==============================] - 55s 1s/step - loss: 0.9221 - acc: 0.5478 - val_loss: 0.6377 - val_acc: 0.6250\n",
      "Epoch 2/24\n",
      "39/39 [==============================] - 69s 2s/step - loss: 0.6333 - acc: 0.6429 - val_loss: 0.5734 - val_acc: 0.8056\n",
      "Epoch 3/24\n",
      "39/39 [==============================] - 71s 2s/step - loss: 0.6186 - acc: 0.6549 - val_loss: 0.5703 - val_acc: 0.8715\n",
      "Epoch 4/24\n",
      "39/39 [==============================] - 74s 2s/step - loss: 0.6116 - acc: 0.6545 - val_loss: 0.5864 - val_acc: 0.7569\n",
      "Epoch 5/24\n",
      "39/39 [==============================] - 75s 2s/step - loss: 0.5839 - acc: 0.6858 - val_loss: 0.5542 - val_acc: 0.8542\n",
      "Epoch 6/24\n",
      "39/39 [==============================] - 75s 2s/step - loss: 0.5831 - acc: 0.6942 - val_loss: 0.5158 - val_acc: 0.7917\n",
      "Epoch 7/24\n",
      "39/39 [==============================] - 77s 2s/step - loss: 0.5378 - acc: 0.7732 - val_loss: 0.4977 - val_acc: 0.9097\n",
      "Epoch 8/24\n",
      "39/39 [==============================] - 76s 2s/step - loss: 0.5413 - acc: 0.7606 - val_loss: 0.4821 - val_acc: 0.9236\n",
      "Epoch 9/24\n",
      "39/39 [==============================] - 78s 2s/step - loss: 0.5128 - acc: 0.7800 - val_loss: 0.4655 - val_acc: 0.8646\n",
      "Epoch 10/24\n",
      "39/39 [==============================] - 80s 2s/step - loss: 0.5027 - acc: 0.7845 - val_loss: 0.4494 - val_acc: 0.9375\n",
      "Epoch 11/24\n",
      "39/39 [==============================] - 78s 2s/step - loss: 0.4946 - acc: 0.7975 - val_loss: 0.4531 - val_acc: 0.9132\n",
      "Epoch 12/24\n",
      "39/39 [==============================] - 80s 2s/step - loss: 0.4732 - acc: 0.7992 - val_loss: 0.4091 - val_acc: 0.9444\n",
      "Epoch 13/24\n",
      "39/39 [==============================] - 85s 2s/step - loss: 0.4793 - acc: 0.7976 - val_loss: 0.4088 - val_acc: 0.8785\n",
      "Epoch 14/24\n",
      "39/39 [==============================] - 79s 2s/step - loss: 0.4683 - acc: 0.7992 - val_loss: 0.3893 - val_acc: 0.9132\n",
      "Epoch 15/24\n",
      "39/39 [==============================] - 79s 2s/step - loss: 0.4502 - acc: 0.8088 - val_loss: 0.4320 - val_acc: 0.9028\n",
      "Epoch 16/24\n",
      "39/39 [==============================] - 78s 2s/step - loss: 0.4297 - acc: 0.8401 - val_loss: 0.3723 - val_acc: 0.9132\n",
      "Epoch 17/24\n",
      "39/39 [==============================] - 79s 2s/step - loss: 0.3900 - acc: 0.8733 - val_loss: 0.3401 - val_acc: 0.9306\n",
      "Epoch 18/24\n",
      "39/39 [==============================] - 76s 2s/step - loss: 0.3934 - acc: 0.8606 - val_loss: 0.3406 - val_acc: 0.9340\n",
      "Epoch 19/24\n",
      "39/39 [==============================] - 79s 2s/step - loss: 0.3834 - acc: 0.8758 - val_loss: 0.3173 - val_acc: 0.9306\n",
      "Epoch 20/24\n",
      "39/39 [==============================] - 76s 2s/step - loss: 0.3619 - acc: 0.8850 - val_loss: 0.3019 - val_acc: 0.9410\n",
      "Epoch 21/24\n",
      "39/39 [==============================] - 76s 2s/step - loss: 0.3467 - acc: 0.8849 - val_loss: 0.2976 - val_acc: 0.9410\n",
      "Epoch 22/24\n",
      "39/39 [==============================] - 77s 2s/step - loss: 0.3263 - acc: 0.8934 - val_loss: 0.2743 - val_acc: 0.9479\n",
      "Epoch 23/24\n",
      "39/39 [==============================] - 79s 2s/step - loss: 0.3260 - acc: 0.8998 - val_loss: 0.2888 - val_acc: 0.9097\n",
      "Epoch 24/24\n",
      "39/39 [==============================] - 76s 2s/step - loss: 0.3107 - acc: 0.8966 - val_loss: 0.3049 - val_acc: 0.8889\n"
     ]
    },
    {
     "data": {
      "text/plain": [
       "<keras.callbacks.History at 0x17614da0>"
      ]
     },
     "execution_count": 158,
     "metadata": {},
     "output_type": "execute_result"
    }
   ],
   "source": [
    "model.fit_generator(train_generator,\n",
    "                    steps_per_epoch=tr_sample_N // batch_size,\n",
    "                    epochs=epochs,\n",
    "                    verbose=1,\n",
    "                    validation_data=validation_generator,\n",
    "                    validation_steps=val_sample_N // batch_size)"
   ]
  },
  {
   "cell_type": "markdown",
   "metadata": {},
   "source": [
    "Saving model parameters"
   ]
  },
  {
   "cell_type": "code",
   "execution_count": null,
   "metadata": {},
   "outputs": [],
   "source": [
    "try:\n",
    "    if not os.path.exists('./saved_feat'):\n",
    "        os.makedirs('./saved_feat')\n",
    "except OSError:\n",
    "    print ('Error: Creating directory of data')\n",
    "\n",
    "model.save_weights('./saved_feat/model_wts.h5')\n",
    "datagen = ImageDataGenerator(rescale=1. / 255)\n",
    "generator = datagen.flow_from_directory('data/train_data',\n",
    "                                        target_size=(img_w, img_h),\n",
    "                                        batch_size=batch_size,\n",
    "                                        class_mode=None,\n",
    "                                        shuffle=False) # our data will be in order\n",
    "# the predict_generator method returns the output of a model, given\n",
    "# a generator that yields batches of numpy data\n",
    "features_train = model.predict_generator(generator, tr_sample_N)\n",
    "# save the output as a Numpy array\n",
    "np.save(open('./saved_feat/features_train.npy', 'wb'), features_train)\n",
    "\n",
    "generator = datagen.flow_from_directory('data/val_data',\n",
    "                                        target_size=(img_w, img_h),\n",
    "                                        batch_size=batch_size,\n",
    "                                        class_mode=None,\n",
    "                                        shuffle=False)\n",
    "\n",
    "features_validation = model.predict_generator(generator, val_sample_N)\n",
    "np.save(open('./saved_feat/features_validation.npy', 'wb'), features_validation)"
   ]
  },
  {
   "cell_type": "code",
   "execution_count": 147,
   "metadata": {},
   "outputs": [
    {
     "name": "stdout",
     "output_type": "stream",
     "text": [
      "Epoch 1/1\n",
      "10/10 [==============================] - 16s 2s/step - loss: 0.4949 - acc: 0.7438 - val_loss: 0.3467 - val_acc: 0.9313\n"
     ]
    },
    {
     "data": {
      "text/plain": [
       "<keras.callbacks.History at 0x13ada518>"
      ]
     },
     "execution_count": 147,
     "metadata": {},
     "output_type": "execute_result"
    }
   ],
   "source": [
    "#############################################\n",
    "model.fit_generator(train_generator,\n",
    "                    steps_per_epoch=10,\n",
    "                    epochs=1,\n",
    "                    verbose=1,\n",
    "                    validation_data=validation_generator,\n",
    "                    validation_steps=5)"
   ]
  },
  {
   "cell_type": "markdown",
   "metadata": {},
   "source": [
    "#### Step 3\n",
    "Make a testing code to test out single images"
   ]
  },
  {
   "cell_type": "code",
   "execution_count": 166,
   "metadata": {},
   "outputs": [],
   "source": [
    "def Predict_test (image_path):\n",
    "    test_image = image.load_img(image_path, target_size = input_shape)\n",
    "    test_image_r = test_image\n",
    "    test_image = np.expand_dims(image.img_to_array(test_image), axis = 0)\n",
    "    \n",
    "    result = model.predict_classes(test_image)\n",
    "    #print(\"Labels:\", train_generator.class_indices)\n",
    "    \n",
    "    if result[0][0] == 1:\n",
    "        prediction = 'Outdoor'\n",
    "    else:\n",
    "        prediction = 'Indoor'\n",
    "    \n",
    "    #print(\"Output label:\", result)\n",
    "    print(\"Test Image is:- \", prediction)\n",
    "    return test_image_r;"
   ]
  },
  {
   "cell_type": "code",
   "execution_count": 168,
   "metadata": {},
   "outputs": [
    {
     "name": "stdout",
     "output_type": "stream",
     "text": [
      "Test Image is:-  Indoor\n"
     ]
    },
    {
     "data": {
      "image/png": "[encoded data removed]",
      "text/plain": [
       "<PIL.Image.Image image mode=RGB size=160x90 at 0x1C76B908>"
      ]
     },
     "execution_count": 168,
     "metadata": {},
     "output_type": "execute_result"
    }
   ],
   "source": [
    "Predict_test('test/1.jpg')"
   ]
  },
  {
   "cell_type": "markdown",
   "metadata": {},
   "source": [
    "#### --------------------------- X -------------------------------- X ---------------------------"
   ]
  }
 ],
 "metadata": {
  "kernelspec": {
   "display_name": "Python 3",
   "language": "python",
   "name": "python3"
  },
  "language_info": {
   "codemirror_mode": {
    "name": "ipython",
    "version": 3
   },
   "file_extension": ".py",
   "mimetype": "text/x-python",
   "name": "python",
   "nbconvert_exporter": "python",
   "pygments_lexer": "ipython3",
   "version": "3.6.4"
  }
 },
 "nbformat": 4,
 "nbformat_minor": 2
}
