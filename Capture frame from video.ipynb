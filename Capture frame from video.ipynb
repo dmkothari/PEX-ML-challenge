{
 "cells": [
  {
   "cell_type": "markdown",
   "metadata": {},
   "source": [
    "## Dhairya Kothari\n",
    "## PEX Machine Learning challenge"
   ]
  },
  {
   "cell_type": "markdown",
   "metadata": {},
   "source": [
    "### Part 1 - Capture frames from a video"
   ]
  },
  {
   "cell_type": "markdown",
   "metadata": {},
   "source": [
    "In this step, we download a youtube video in .mp4 format and extract frames from it. Alternatively we can also do web scraping using curl or a crawler and get frames from the video. I chose to download the YouTube video as the internet connection was quite unreliable at my place (spartans were less on amenities, eh! =D ), so I rather worked with offline data stored in my system. I downloaded the YouTube video using a freeware available online. <br>\n",
    "Keeping in mind all the DMCA requirements at the time of download and Also giving a fair use disclaimer that all rights belong to the respective creators and this exercise was only meant for educational/testing purposes. No money was made using the video. <br> \n",
    "I will upload the images to the github repo, not the full youtube videos. I can provide the link to the said youtube videos though. "
   ]
  },
  {
   "cell_type": "markdown",
   "metadata": {},
   "source": [
    "#### Snapshot of the directory"
   ]
  },
  {
   "cell_type": "markdown",
   "metadata": {},
   "source": [
    "This is how the directory structure will look after the end of the code: <br>\n",
    "<p>\n",
    "    ./data <br>\n",
    "    &nbsp;&nbsp;&nbsp;&nbsp; /train_data <br>\n",
    "    &nbsp;&nbsp;&nbsp;&nbsp;&nbsp;&nbsp;&nbsp;&nbsp; /indoor <br>\n",
    "    &nbsp;&nbsp;&nbsp;&nbsp;&nbsp;&nbsp;&nbsp;&nbsp;&nbsp;&nbsp;&nbsp;&nbsp; /........ images ....... <br>\n",
    "    &nbsp;&nbsp;&nbsp;&nbsp;&nbsp;&nbsp;&nbsp;&nbsp; /outdoor <br>\n",
    "    &nbsp;&nbsp;&nbsp;&nbsp;&nbsp;&nbsp;&nbsp;&nbsp;&nbsp;&nbsp;&nbsp;&nbsp; /........ images ....... <br>\n",
    "<p>\n",
    "    &nbsp;&nbsp;&nbsp;&nbsp; /val_data <br>\n",
    "    &nbsp;&nbsp;&nbsp;&nbsp;&nbsp;&nbsp;&nbsp;&nbsp; /indoor <br>\n",
    "    &nbsp;&nbsp;&nbsp;&nbsp;&nbsp;&nbsp;&nbsp;&nbsp;&nbsp;&nbsp;&nbsp;&nbsp; /........ images ....... <br>\n",
    "    &nbsp;&nbsp;&nbsp;&nbsp;&nbsp;&nbsp;&nbsp;&nbsp; /outdoor <br>\n",
    "    &nbsp;&nbsp;&nbsp;&nbsp;&nbsp;&nbsp;&nbsp;&nbsp;&nbsp;&nbsp;&nbsp;&nbsp; /........ images ....... <br>    "
   ]
  },
  {
   "cell_type": "code",
   "execution_count": 1,
   "metadata": {},
   "outputs": [],
   "source": [
    "import cv2\n",
    "import math\n",
    "import glob\n",
    "import shutil\n",
    "import os, random\n",
    "\n",
    "import numpy as np\n",
    "from PIL import Image"
   ]
  },
  {
   "cell_type": "markdown",
   "metadata": {},
   "source": [
    "We use OpenCV(cv2) to capture frame from a video. We have the freedom to choose and save which frames we want, because it can go through each and every frame. Considering that YouTube video(s) are well crafted, dont have too many jumpcuts and are generally decodable  when you freeze a frame (i.e. not all frames are blurry when you freeze them). Also keeping in mind that the video(s) are consistent and within 3-5 seconds time window in a video we have the same image/information. <br>\n",
    "Here we store the FPS and develop a mechanism to capture one frame each second (to reduce redundency) and then introduce a programmable delay (for example 5 seconds) to further refine the data set. Then we have one frame every 5 seconds, as previously when I captured one frame per second, the data set had a lot of redundent images. <br>\n",
    "<p>\n",
    "   Keep in mind that encapsulating the whole code into a function and/or making this python file into a package is completely doable in 5 mins work, here I have not done this because I do not want to restrict the code to the format of my defined function, but one can do it based on what and how he wants the code to work with their current pipeline. \n",
    "</p>"
   ]
  },
  {
   "cell_type": "markdown",
   "metadata": {},
   "source": [
    "#### Indoor images from video"
   ]
  },
  {
   "cell_type": "code",
   "execution_count": 5,
   "metadata": {},
   "outputs": [],
   "source": [
    "# Playing video from file:\n",
    "indoor = cv2.VideoCapture('indoor.mp4')\n",
    "\n",
    "try:\n",
    "    if not os.path.exists('data/train_data/indoor'):\n",
    "        os.makedirs('data/train_data/indoor')\n",
    "except OSError:\n",
    "    print ('Error: Creating directory of data')\n",
    "\n",
    "fps = indoor.get(5) #get framerate\n",
    "delay = 4 #introduce a delay in seconds\n",
    "currentFrame = 1\n",
    "while(True):\n",
    "    f_no = indoor.get(1) #current frame number\n",
    "    # Capture frame-by-frame\n",
    "    ret, frame = indoor.read()\n",
    "    \n",
    "    if not ret: break\n",
    "\n",
    "    if (f_no % math.floor(fps*delay) == 0):\n",
    "        # Saves image of the current frame in jpg file\n",
    "        name = './data/train_data/indoor/' + str(currentFrame) + '.jpg'\n",
    "        cv2.imwrite(name, frame)\n",
    "        currentFrame += 1\n",
    "\n",
    "# release the capture and destroy all windows\n",
    "indoor.release()\n",
    "cv2.destroyAllWindows()"
   ]
  },
  {
   "cell_type": "markdown",
   "metadata": {},
   "source": [
    "#### Outdoor images from video"
   ]
  },
  {
   "cell_type": "code",
   "execution_count": 4,
   "metadata": {},
   "outputs": [],
   "source": [
    "outdoor = cv2.VideoCapture('outdoor.mp4')\n",
    "outdoor1 = cv2.VideoCapture('outdoor1.mp4')\n",
    "\n",
    "try:\n",
    "    if not os.path.exists('data/train_data/outdoor'):\n",
    "        os.makedirs('data/train_data/outdoor')\n",
    "except OSError:\n",
    "    print ('Error: Creating directory of data')\n",
    "\n",
    "currentFrame = 1\n",
    "fps = outdoor.get(5)\n",
    "delay = 3\n",
    "while(True):\n",
    "    f_no = outdoor.get(1)\n",
    "    ret, frame = outdoor.read()\n",
    "    \n",
    "    if not ret: break\n",
    "\n",
    "    if (f_no % math.floor(fps*delay) == 0):\n",
    "        name = './data/train_data/outdoor/' + str(currentFrame) + '.jpg'\n",
    "        cv2.imwrite(name, frame)\n",
    "        currentFrame += 1\n",
    "\n",
    "fps1 = outdoor1.get(5)\n",
    "delay = 10\n",
    "# here is an example of grabing frames from 2 videos, we just continue the currentframe number from where it left off previously\n",
    "while(True):\n",
    "    f_no = outdoor1.get(1)\n",
    "    ret, frame = outdoor1.read()\n",
    "    \n",
    "    if not ret: break\n",
    "\n",
    "    if (f_no % math.floor(fps1*delay) == 0):\n",
    "        name = './data/train_data/outdoor/' + str(currentFrame) + '.jpg'\n",
    "        cv2.imwrite(name, frame)\n",
    "        currentFrame += 1        \n",
    "\n",
    "outdoor.release()\n",
    "outdoor1.release()\n",
    "cv2.destroyAllWindows()"
   ]
  },
  {
   "cell_type": "markdown",
   "metadata": {},
   "source": [
    "#### Creating a validation set\n",
    "We select 20% of random images from indoor and outdoor directories and move them to respective validation set creating an 80-20 split "
   ]
  },
  {
   "cell_type": "code",
   "execution_count": 6,
   "metadata": {},
   "outputs": [],
   "source": [
    "tr_sample_N_in = len(glob.glob('./data/train_data/indoor/*.jpg'))\n",
    "tr_sample_N_out = len(glob.glob('./data/train_data/outdoor/*.jpg'))\n",
    "\n",
    "try:\n",
    "    if not os.path.exists('data/val_data/indoor'):\n",
    "        os.makedirs('data/val_data/indoor')\n",
    "except OSError:\n",
    "    print ('Error: Creating directory of data')\n",
    "\n",
    "try:\n",
    "    if not os.path.exists('data/val_data/outdoor'):\n",
    "        os.makedirs('data/val_data/outdoor')\n",
    "except OSError:\n",
    "    print ('Error: Creating directory of data')\n",
    "\n",
    "\n",
    "for i in range(0,int(0.2*tr_sample_N_in)):\n",
    "    rand_img = random.choice(os.listdir(\"./data/train_data/indoor/\"))\n",
    "    #print(rand_img)\n",
    "    shutil.move(\"./data/train_data/indoor/\"+rand_img, \"./data/val_data/indoor/\"+rand_img)\n",
    "\n",
    "for i in range(0,int(0.2*tr_sample_N_out)):\n",
    "    rand_img = random.choice(os.listdir(\"./data/train_data/outdoor/\"))\n",
    "    #print(rand_img)\n",
    "    shutil.move(\"./data/train_data/outdoor/\"+rand_img, \"./data/val_data/outdoor/\"+rand_img)"
   ]
  },
  {
   "cell_type": "markdown",
   "metadata": {},
   "source": [
    "#### Part two saved in another notebook named: <i>In_Out </i>"
   ]
  }
 ],
 "metadata": {
  "kernelspec": {
   "display_name": "Python 3",
   "language": "python",
   "name": "python3"
  },
  "language_info": {
   "codemirror_mode": {
    "name": "ipython",
    "version": 3
   },
   "file_extension": ".py",
   "mimetype": "text/x-python",
   "name": "python",
   "nbconvert_exporter": "python",
   "pygments_lexer": "ipython3",
   "version": "3.6.4"
  }
 },
 "nbformat": 4,
 "nbformat_minor": 2
}
